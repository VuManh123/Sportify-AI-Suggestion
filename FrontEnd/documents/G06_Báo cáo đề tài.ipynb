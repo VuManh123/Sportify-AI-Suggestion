{
 "cells": [
  {
   "cell_type": "markdown",
   "metadata": {},
   "source": [
    "# Báo cáo Project\n",
    "Lớp TTNT-147729, Nhóm G06"
   ]
  },
  {
   "cell_type": "markdown",
   "metadata": {},
   "source": [
    "## 1. Thông tin chung"
   ]
  },
  {
   "cell_type": "markdown",
   "metadata": {},
   "source": [
    "### Thành viên\n",
    "- Vũ Đức Mạnh - 20215282\n",
    "- Lê Phúc Hưng - 20215276\n",
    "- Phạm Đức Dũng - 20215265\n",
    "- Trần Trung Nghĩa - 20213581\n",
    "- Đàm Minh Hải - 20215272"
   ]
  },
  {
   "cell_type": "markdown",
   "metadata": {},
   "source": [
    "### Lịch thực hiện\n",
    "- W25: Đăng ký nhóm (Đã đăng ký trên Teams 18/2)\n",
    "- W26: Đăng ký project (3/3)\n",
    "- W31: Tiến độ giữa kỳ (7/4)\n",
    "- W38: Hoàn thành project (26/5)\n",
    "- W39-41: thuyết trình"
   ]
  },
  {
   "cell_type": "markdown",
   "metadata": {},
   "source": [
    "## 2. Đăng ký Project"
   ]
  },
  {
   "cell_type": "markdown",
   "metadata": {},
   "source": [
    "### Bài toán\n",
    "Hệ thống gợi ý nội dung - gợi ý bài hát trên Spotify cho người dùng Việt Nam"
   ]
  },
  {
   "cell_type": "markdown",
   "metadata": {},
   "source": [
    "### Phương pháp\n",
    "- Tạo ứng dụng dựa trên Spotify với Python có mở rộng với gợi ý nội dung và chat với trợ lý ảo\n",
    "- Mô hình :\n",
    "    + Mô hình Collaborative Filtering (tương tự như của Last.fm) sẽ phân tích hành vi của bạn lẫn người dùng khác.\n",
    "    + Mô hình Natural Language Processing (NLP) sẽ phân tích phần kí tự.\n",
    "    + Mô hình Audio sẽ phân tích phần âm thanh thô.\n",
    "- Lấy dữ liệu nghe nhạc của người dùng qua việc người dùng sử dụng giao diện ứng dụng của Spotify.\n",
    "- Sử dụng thuật toán học máy để phân tích dữ liệu và tìm ra các mối liên hệ giữa các bài hát\n",
    "- Phân tích hành vi dựa trên dữ liệu người dùng để gợi ý bài hát dựa trên lịch sử xem của họ.\n",
    "- Sử dụng các phương pháp gợi ý khác nhau để giới thiệu những bài hát mới cho người dùng.\n",
    "- Gợi ý theo thể loại / tác giả / trending /…\n",
    "\n"
   ]
  },
  {
   "cell_type": "markdown",
   "metadata": {},
   "source": [
    "### Phân công\n",
    "- Lê Phúc Hưng:\n",
    "    + Thu thập dữ liệu, gán nhãn dữ liệu, xây dựng giao diện cho nền tảng ứng dụng\n",
    "    + Yêu cầu: Công cụ như Spotify API có thể được sử dụng để thu thập dữ liệu.\n",
    "- Vũ Đức Mạnh:\n",
    "    + Xây dựng mô hình, huấn luyện mô hình AI, xây dựng giao diện cho nền tảng ứng dụng\n",
    "    + Yêu cầu: Kiểm soát tiến độ dự án. Áp dụng các thuật toán học máy như Collaborative Filtering, Content-based Filtering hoặc Hybrid Recommender Systems. Các framework như Scikit-learn hoặc TensorFlow có thể được sử dụng để triển khai các mô hình.\n",
    "- Trần Trung Nghĩa:\n",
    "    + Làm backend cho nền tảng ứng dụng, Tích hợp mô hình vào nền tảng web, xây dựng mô hình\n",
    "    + Yêu cầu: Áp dụng các thuật toán học máy như Collaborative Filtering, Content-based Filtering hoặc Hybrid Recommender Systems. Các framework như Scikit-learn hoặc TensorFlow có thể được sử dụng để triển khai các mô hình.\n",
    "- Phạm Đức Dũng:\n",
    "    + Xử lý dữ liệu (gán nhãn dữ liệu), phân tích dữ liệu hiển thị giao diện người dùng\n",
    "    + Yêu cầu: Sử dụng kỹ thuật xử lý dữ liệu như Pandas và NumPy trong Python để tiền xử lý dữ liệu.\n",
    "- Đàm Minh Hải:\n",
    "    + Khảo sát bài toán, phân tích và chuẩn hóa dữ liệu, kiểm tra hệ thống\n",
    "    + Yêu cầu: Tham khảo các nguồn tài liệu, các mô hình khác nhau để thiết kế ứng dụng (các chức năng cơ bản)"
   ]
  },
  {
   "cell_type": "markdown",
   "metadata": {},
   "source": [
    "### Giao diện ứng dụng\n",
    "\n",
    "Trên đây là giao diện bọn em đã xây dựng cho phàn mềm này. Vì đây là phần mềm hướng đến chức năng gợi ý bài nhạc cho người dùng. Em sẽ trình bày rõ hơn về phương pháp sử dụng và luồng hoạt động của trang AI Suggestion. Luồng hoạt động như sau:\n",
    "- Khi vào hệ thống, người dùng sẽ chọn chức năng AI Suggestion trên thanh sidebar\n",
    "- Tiếp đó, người dùng sẽ nhập vào từ khóa hoặc tên một bài hát muốn tìm\n",
    "- Các bài hát có liên quan sẽ hiện ra trong cột search result sau khi tìm kiếm\n",
    "- Người dùng ấn vào một bài hát nào đó, hệ thống sẽ lấy thông tin bài hát\n",
    "- Sau đó hệ thống gửi về dịch vụ AI của bọn em, dịch vụ này sẽ phân tích và đưa ra gợi ý\n",
    "- thông tin về các gợi ý sẽ được hiển thị ở cột Suggestion by AI"
   ]
  },
  {
   "cell_type": "markdown",
   "metadata": {},
   "source": []
  }
 ],
 "metadata": {
  "language_info": {
   "name": "python"
  }
 },
 "nbformat": 4,
 "nbformat_minor": 2
}
