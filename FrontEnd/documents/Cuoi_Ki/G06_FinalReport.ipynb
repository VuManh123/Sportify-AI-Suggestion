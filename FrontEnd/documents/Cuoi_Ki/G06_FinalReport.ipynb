{
 "cells": [
  {
   "cell_type": "markdown",
   "metadata": {},
   "source": [
    "# Báo cáo kết quả Project\n",
    "Lớp TTNT-147729, Nhóm G06"
   ]
  },
  {
   "cell_type": "markdown",
   "metadata": {},
   "source": [
    "### Thành viên\n",
    "- Vũ Đức Mạnh - 20215282\n",
    "- Lê Phúc Hưng - 20215276\n",
    "- Phạm Đức Dũng - 20215265\n",
    "- Trần Trung Nghĩa - 20213581\n",
    "- Đàm Minh Hải - 20215272\n",
    "\n",
    "---"
   ]
  },
  {
   "cell_type": "markdown",
   "metadata": {},
   "source": [
    "### Mục Lục \n",
    "[Phân công công việc](#phancong)\n",
    "\n",
    "[I. Giới thiệu dự án](#i-mở-đầu)\n",
    "- [1. Bài toán cần giải quyết](#baitoan)\n",
    "- [2. Mục đích của đề tài](#muc-dich)\n",
    "- [3. Phạm vi của đề tài](#pham-vi)\n",
    "\n",
    "[II. Khảo sát bài toán](#ii-Khaosat)\n",
    "- [1. Tóm tắt yêu cầu](#Yeucau)\n",
    "- [2. Khảo sát chung về cách xây dựng bài toán](#Khaosatchung)\n",
    "    - [2.1. Các mô hình thuật toán](#mo-hing-thuat-toan)\n",
    "    - [2.2. Các bước tiến hành](#cac-buoc-tien-hanh)\n",
    "- [3. Mô tả nghiệp vụ](#Nghiepvu)\n",
    "\n",
    "[III. Phương pháp giải quyết và thực hiện](#iii-phuongphap)\n",
    "- [1. Phương pháp và thuật toán đã áp dụng](#ppvatt)\n",
    "\n",
    "[IV. Kết quả ](#Ketqua)\n",
    "- [1. Kết quả quá trình crawl dữ liệu](#dl)\n",
    "- [2. Giao diện người dùng](#ggiaodien)\n",
    "- [3. Demo quá trình gợi ý bài hát](#demo)\n",
    "\n",
    "---"
   ]
  },
  {
   "cell_type": "markdown",
   "metadata": {},
   "source": [
    "## Phân chia công việc"
   ]
  },
  {
   "cell_type": "markdown",
   "metadata": {},
   "source": [
    "<a name=\"Modau\"></a>\n",
    "\n",
    "## I. Giới thiệu dự án\n",
    "\n",
    "### 1. Bài toán cầ giải quyết\n"
   ]
  },
  {
   "cell_type": "markdown",
   "metadata": {},
   "source": [
    "- Âm nhạc đóng vai trò quan trọng trong cuộc sống và công việc. Nó không chỉ là một phương tiện giải trí mà còn làm tăng cường tinh thần, giảm căng thẳng và kích thích sự sáng tạo.  m nhạc cũng là công cụ giao tiếp mạnh mẽ, giúp kết nối con người và truyền tải các giá trị văn hóa. Trong công việc, âm nhạc được sử dụng để tạo môi trường làm việc tích cực, thúc đẩy hiệu suất và sự sáng tạo. Nó có thể được áp dụng trong nhiều lĩnh vực như giáo dục, marketing, y tế và công nghệ để tạo ra trải nghiệm tốt hơn cho người sử dụng và khách hàng. Đồng thời, việc học và thực hành âm nhạc cũng giúp phát triển nhiều kỹ năng quan trọng như kỹ năng ngôn ngữ, tư duy logic và kỹ năng xã hội.\n",
    "- Để phát triển hơn những ưu điểm của âm nhạc, việc nghe đúng loại nhạc là một điều đóng vai trò tiên quyết. Mà trong thời kì hiện nay, kho tàng âm nhạc đã trở nên quá đồ sộ, chúng ta không có thời gian để nghe tất cả các bài nhạc, và chọn ra cho mình những bản nhạc phù hợp. Hiểu được điều này, bọn em quyết định chọn đề tài “Xây dựng hệ thống gợi ý dành cho người nghe nhạc trên ứng dụng Spotify”. Qua đề tài này, chúng em muốn xây dựng được một hệ thống sử dụng mô hình AI để hỗ trợ người dùng ứng dụng spotify trong việc lựa chọn và nghe nhạc. Chúng em rất mong kết quả của đề tài này có thể là một sản phẩm có ích với mọi người.\n",
    "\n",
    "### 2. Mục đích của đề tài\n",
    "- Mục tiêu của đề tài \"Xây dựng hệ thống gợi ý dành cho người nghe nhạc trên ứng dụng Spotify\" là tạo ra một hệ thống gợi ý nhạc thông minh và hiệu quả nhằm cải thiện trải nghiệm người dùng trên ứng dụng Spotify nói chung và trong việc nghe nhạc nói riêng. Đây là một bước quan trọng trong việc tối ưu hóa dịch vụ nghe nhạc trực tuyến.\n",
    "Mục tiêu cụ thể bao gồm:\n",
    "    - Phát triển một thuật toán gợi ý thông minh dựa trên dữ liệu người dùng như lịch sử nghe nhạc, sở thích, phản hồi của họ với trợ lý ảo.\n",
    "    - Tối ưu hóa quy trình phân tích và xử lý dữ liệu để cung cấp gợi ý chính xác và đa dạng.\n",
    "    - Tích hợp các yếu tố như thị trường âm nhạc, xu hướng mới và thông tin về nghệ sĩ để cung cấp gợi ý đa chiều và hấp dẫn.\n",
    "    - Tạo ra một giao diện người dùng thân thiện và dễ sử dụng, cho phép người dùng tùy chỉnh và tương tác với các gợi ý theo ý muốn của họ.\n",
    "    - Đánh giá và cải tiến liên tục hệ thống dựa trên phản hồi từ người dùng và dữ liệu sử dụng.\n",
    "\n",
    "### 3. Phạm vi của đề tài\n",
    "Với đề tài này, để có thể làm việc một cách hiệu quả, chúng em xin phép đặt ra phạm vi cho các phần nhiệm vụ chính như sau:\n",
    "- Thu thập và xử lý dữ liệu: Phạm vi này bao gồm việc thu thập dữ liệu về lịch sử nghe nhạc, thông tin người dùng, các yếu tố khác liên quan đến sở thích âm nhạc của ngưỡi dùng; dữ liệu về các bài nhạc, các xu hướng nghe nhạc. Sau đó, dữ liệu này được xử lý, làm tiền đề cho việc xây dựng mô hình AI và huấn luyện mô hình AI.\n",
    "- Xây dựng và huấn luyện mô hình AI: Phạm vi này tập trung vào việc phát triển các thuật toán học máy để dự đoán sở thích của người dùng và gợi ý cho họ các bài hát, album hoặc playlist phù hợp.\n",
    "- Tích hợp thông tin về âm nhạc: Phạm vi này bao gồm việc tích hợp thông tin về thị trường âm nhạc, xu hướng mới và thông tin về nghệ sĩ vào quá trình gợi ý để cung cấp cho người dùng các gợi ý đa dạng và phong phú.\n",
    "- Phát triển giao diện người dùng: Phạm vi này liên quan đến việc thiết kế và phát triển giao diện người dùng trực quan và dễ sử dụng để người dùng có thể tương tác và tùy chỉnh các gợi ý theo ý muốn của họ.\n",
    "- Đánh giá và cải tiến: Phạm vi này bao gồm việc đánh giá hiệu suất của hệ thống gợi ý thông qua các phản hồi từ người dùng và dữ liệu sử dụng, sau đó cải tiến hệ thống để tối ưu hóa trải nghiệm người dùng.\n",
    "\n",
    "-> Trên đây là những phạm vi chúng em đã đặt ra để quá trình thực hiện dự án có thể diễn ra một cách ổn định. Chúng em cũng mong răng với phạm vi này, chúng em có thể tạo ra một sản phẩm chất lượng\n",
    "\n",
    "\n"
   ]
  },
  {
   "cell_type": "markdown",
   "metadata": {},
   "source": [
    "## II. Khảo sát bài toán\n",
    "\n",
    "### 1. Tóm tắt yêu cầu\n",
    "- Mô phỏng, xây dựng các thuật toán trí tuệ nhân tạo để tích hợp vào ứng dụng phát nhạc trực tuyến, giúp cá nhân hóa danh sách phát của người dùng\n",
    "- Có thể xây dựng một, hoặc sử dụng nhiều mô hình thuật toán. Sau khi xây dựng các thuật toán yêu cầu phải so sánh độ hiệu quả để tìm ra thuật toán phù hợp\n",
    "- Áp dụng vào chương trình tìm kiếm của ứng dụng đó sao cho hệ thống có thể gợi ý các bài hát phù hợp với từng người dùng, tùy vào lịch sử nghe và các nghệ sĩ người dùng yêu thích\n",
    "\n",
    "### 2. Khảo sát chung về cách xây dựng bài toán\n",
    "\n",
    "#### 2.1. Các mô hình thuật toán\n",
    "- Một số tài liệu tham khảo được sử dụng trong vấn đề xây dựng mô hình giải thuật gợi ý bài hát cho người dùng:\n",
    "\n",
    "<figure>\n",
    "    <img src=\"../Cuoi_Ki/Chart_1.png\" style=\"width:60%;height:60%;\">\n",
    "    <figcaption>Framework cho chương trình đề xuất nhạc</figcaption>\n",
    "</figure>\n",
    "\n",
    "<figure>\n",
    "    <img src=\"./Chart_2.png\" style=\"width:60%;height:60%;\">\n",
    "    <figcaption>Framework cho chương trình đề xuất nhạc</figcaption>\n",
    "</figure>\n",
    "\n",
    "#### 2.2. Các bước tiến hành\n",
    "- **Bước 1: Thu thập dữ liệu:**\n",
    "    - Điều này bao gồm thông tin về bài hát được nghe, thời gian nghe, thể loại nhạc, và các thao tác tương tác khác trên nền tảng.\n",
    "    - Dữ liệu này được sử dụng để hiểu sở thích và yêu cầu âm nhạc của mỗi người dùng.\n",
    "- **Bước 2: Phân tích dữ liệu:**\n",
    "    - Phân tích dữ liệu để hiểu sở thích của người dùng. Điều này có thể bao gồm phân tích thể loại nhạc, phát hiện xu hướng, và xác định các yếu tố quan trọng khác như nghệ sĩ, album, và tỷ lệ lắng nghe.\n",
    "    - Sự tương tác của người dùng với các bài hát khác nhau, bao gồm việc thích, bỏ qua, lưu vào thư viện, v.v.\n",
    "- **Bước 3: Xây dựng mô hình:**\n",
    "    - Xây dựng/sử dụng mô hình học máy để dự đoán sở thích âm nhạc của người dùng.\n",
    "    - Mô hình này được huấn luyện trên dữ liệu lịch sử phát nhạc của người dùng để tạo ra các đề xuất phát nhạc cá nhân hóa.\n",
    "- **Bước 4: Tích hợp vào ứng dụng:**\n",
    "    - Tích hợp trực tiếp vào ứng dụng như Spotify, nơi người dùng có thể truy cập và nghe từ trang cá nhân của họ.\n",
    "    - Các bài hát được đề xuất dựa trên mô hình cá nhân hóa và được cập nhật mỗi tuần.\n",
    "- **Bước 5: Đánh giá và tinh chỉnh:**\n",
    "    - Đánh giá hiệu suất của thông qua phản hồi từ người dùng và các phương tiện đo lường khác như tỷ lệ nghe, thời lượng nghe, v.v.\n",
    "    - Dựa trên thông tin này để tinh chỉnh mô hình, cải thiện chất lượng của các đề xuất phát nhạc.\n",
    "\n",
    "### 3. Mô tả nghiệp vụ\n",
    "- Dựa trên yêu cầu này, ta có thể phân chia thành 3 nhóm nghiệp vụ cơ bản:\n",
    "\n",
    "    - **Bước 1. Thu thập và xử lý dữ liệu người dùng và bài hát**\n",
    "    - **Bước 2. Phát triển và huấn luyện mô hình trí tuệ nhân tạo**\n",
    "    - **Bước 3. Cá nhân hóa và đề xuất danh sách phát**"
   ]
  },
  {
   "cell_type": "markdown",
   "metadata": {},
   "source": [
    "## III. Phương pháp giải quyết và thực hiện\n",
    "### 1. Phương pháp và thuật toán đã áp dụng"
   ]
  },
  {
   "cell_type": "markdown",
   "metadata": {},
   "source": [
    "## IV. Kết quả\n",
    "### 1. Kết quả quá trình crawl dữ liệu\n",
    "### 2. Giao diện người dùng\n",
    "<figure>\n",
    "    <img src=\"./FE1.png\" style=\"width:60%;height:60%;\">\n",
    "    <figcaption>Giao diện trang chủ</figcaption>\n",
    "</figure>\n",
    "<figure>\n",
    "    <img src=\"./FE2.png\" style=\"width:60%;height:60%;\">\n",
    "    <figcaption>Giao diện AI Suggestion</figcaption>\n",
    "</figure>\n",
    "<figure>\n",
    "    <img src=\"./FE3.png\" style=\"width:60%;height:60%;\">\n",
    "    <figcaption>Giao diện tìm kiếm danh mục và bài hát</figcaption>\n",
    "</figure>\n",
    "\n",
    "Trên đây là giao diện bọn em đã xây dựng cho phàn mềm này. Vì đây là phần mềm hướng đến chức năng gợi ý bài nhạc cho người dùng. Em sẽ trình bày rõ hơn về phương pháp sử dụng và luồng hoạt động của trang AI Suggestion. Luồng hoạt động như sau:\n",
    "- Khi vào hệ thống, người dùng sẽ chọn chức năng AI Suggestion trên thanh sidebar\n",
    "- Tiếp đó, người dùng sẽ nhập vào từ khóa hoặc tên một bài hát muốn tìm\n",
    "- Các bài hát có liên quan sẽ hiện ra trong cột search result sau khi tìm kiếm\n",
    "- Người dùng ấn vào một bài hát nào đó, hệ thống sẽ lấy thông tin bài hát\n",
    "- Sau đó hệ thống gửi về dịch vụ AI của bọn em, dịch vụ này sẽ phân tích và đưa ra gợi ý\n",
    "- Thông tin về các gợi ý sẽ được hiển thị ở cột Suggestion by AI\n",
    "\n",
    "### 3. Demo quá trình gợi ý bài hát"
   ]
  }
 ],
 "metadata": {
  "language_info": {
   "name": "python"
  }
 },
 "nbformat": 4,
 "nbformat_minor": 2
}
