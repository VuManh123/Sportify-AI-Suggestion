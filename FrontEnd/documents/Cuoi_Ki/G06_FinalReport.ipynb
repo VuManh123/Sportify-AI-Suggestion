{
 "cells": [
  {
   "cell_type": "markdown",
   "metadata": {},
   "source": [
    "# Báo cáo kết quả Project\n",
    "Lớp TTNT-147729, Nhóm G06"
   ]
  },
  {
   "cell_type": "markdown",
   "metadata": {},
   "source": [
    "### Thành viên\n",
    "- Vũ Đức Mạnh - 20215282\n",
    "- Lê Phúc Hưng - 20215276\n",
    "- Phạm Đức Dũng - 20215265\n",
    "- Trần Trung Nghĩa - 20213581\n",
    "- Đàm Minh Hải - 20215272\n",
    "\n",
    "---"
   ]
  },
  {
   "cell_type": "markdown",
   "metadata": {},
   "source": [
    "### Mục Lục \n",
    "[Phân công công việc](#phancong)\n",
    "\n",
    "[I. Giới thiệu dự án](#i-mở-đầu)\n",
    "- [1. Bài toán cần giải quyết](#baitoan)\n",
    "- [2. Mục đích của đề tài](#muc-dich)\n",
    "- [3. Phạm vi của đề tài](#pham-vi)\n",
    "\n",
    "[II. Khảo sát bài toán](#ii-Khaosat)\n",
    "- [1. Tóm tắt yêu cầu](#Yeucau)\n",
    "- [2. Khảo sát chung về cách xây dựng bài toán](#Khaosatchung)\n",
    "    - [2.1. Các mô hình thuật toán](#mo-hing-thuat-toan)\n",
    "    - [2.2. Các bước tiến hành](#cac-buoc-tien-hanh)\n",
    "- [3. Mô tả nghiệp vụ](#Nghiepvu)\n",
    "\n",
    "[III. Phương pháp và thuật toán đã áp dụng](#iii-phuongphap)\n",
    "\n",
    "[IV. Kết quả ](#Ketqua)\n",
    "- [1. Kết quả quá trình crawl dữ liệu](#dl)\n",
    "- [2. Giao diện người dùng](#ggiaodien)\n",
    "- [3. Demo quá trình gợi ý bài hát](#demo)\n",
    "\n",
    "---"
   ]
  },
  {
   "cell_type": "markdown",
   "metadata": {},
   "source": [
    "## Phân chia công việc\n",
    "- Lê Phúc Hưng:\n",
    "    + Thu thập dữ liệu, gán nhãn dữ liệu, xây dựng giao diện cho nền tảng ứng dụng\n",
    "    + Yêu cầu: Công cụ như Spotify API có thể được sử dụng để thu thập dữ liệu.\n",
    "- Vũ Đức Mạnh:\n",
    "    + Xây dựng mô hình, huấn luyện mô hình AI, xây dựng giao diện cho nền tảng ứng dụng\n",
    "    + Yêu cầu: Kiểm soát tiến độ dự án. Áp dụng các thuật toán học máy như Collaborative Filtering, Content-based Filtering hoặc Hybrid Recommender Systems. Các framework như Scikit-learn hoặc TensorFlow có thể được sử dụng để triển khai các mô hình.\n",
    "- Trần Trung Nghĩa:\n",
    "    + Làm backend cho nền tảng ứng dụng, Tích hợp mô hình vào nền tảng web, xây dựng mô hình\n",
    "    + Yêu cầu: Áp dụng các thuật toán học máy như Collaborative Filtering, Content-based Filtering hoặc Hybrid Recommender Systems. Các framework như Scikit-learn hoặc TensorFlow có thể được sử dụng để triển khai các mô hình.\n",
    "- Phạm Đức Dũng:\n",
    "    + Xử lý dữ liệu (gán nhãn dữ liệu), phân tích dữ liệu hiển thị giao diện người dùng\n",
    "    + Yêu cầu: Sử dụng kỹ thuật xử lý dữ liệu như Pandas và NumPy trong Python để tiền xử lý dữ liệu.\n",
    "- Đàm Minh Hải:\n",
    "    + Khảo sát bài toán, phân tích và chuẩn hóa dữ liệu, kiểm tra hệ thống\n",
    "    + Yêu cầu: Tham khảo các nguồn tài liệu, các mô hình khác nhau để thiết kế ứng dụng (các chức năng cơ bản)"
   ]
  },
  {
   "cell_type": "markdown",
   "metadata": {},
   "source": [
    "<a name=\"Modau\"></a>\n",
    "\n",
    "## I. Giới thiệu dự án\n",
    "\n",
    "### 1. Bài toán cầ giải quyết\n"
   ]
  },
  {
   "cell_type": "markdown",
   "metadata": {},
   "source": [
    "- Âm nhạc đóng vai trò quan trọng trong cuộc sống và công việc. Nó không chỉ là một phương tiện giải trí mà còn làm tăng cường tinh thần, giảm căng thẳng và kích thích sự sáng tạo.  m nhạc cũng là công cụ giao tiếp mạnh mẽ, giúp kết nối con người và truyền tải các giá trị văn hóa. Trong công việc, âm nhạc được sử dụng để tạo môi trường làm việc tích cực, thúc đẩy hiệu suất và sự sáng tạo. Nó có thể được áp dụng trong nhiều lĩnh vực như giáo dục, marketing, y tế và công nghệ để tạo ra trải nghiệm tốt hơn cho người sử dụng và khách hàng. Đồng thời, việc học và thực hành âm nhạc cũng giúp phát triển nhiều kỹ năng quan trọng như kỹ năng ngôn ngữ, tư duy logic và kỹ năng xã hội.\n",
    "- Để phát triển hơn những ưu điểm của âm nhạc, việc nghe đúng loại nhạc là một điều đóng vai trò tiên quyết. Mà trong thời kì hiện nay, kho tàng âm nhạc đã trở nên quá đồ sộ, chúng ta không có thời gian để nghe tất cả các bài nhạc, và chọn ra cho mình những bản nhạc phù hợp. Hiểu được điều này, bọn em quyết định chọn đề tài “Xây dựng hệ thống gợi ý dành cho người nghe nhạc trên ứng dụng Spotify”. Qua đề tài này, chúng em muốn xây dựng được một hệ thống sử dụng mô hình AI để hỗ trợ người dùng ứng dụng spotify trong việc lựa chọn và nghe nhạc. Chúng em rất mong kết quả của đề tài này có thể là một sản phẩm có ích với mọi người.\n",
    "\n",
    "### 2. Mục đích của đề tài\n",
    "- Mục tiêu của đề tài \"Xây dựng hệ thống gợi ý dành cho người nghe nhạc trên ứng dụng Spotify\" là tạo ra một hệ thống gợi ý nhạc thông minh và hiệu quả nhằm cải thiện trải nghiệm người dùng trên ứng dụng Spotify nói chung và trong việc nghe nhạc nói riêng. Đây là một bước quan trọng trong việc tối ưu hóa dịch vụ nghe nhạc trực tuyến.\n",
    "Mục tiêu cụ thể bao gồm:\n",
    "    - Phát triển một thuật toán gợi ý thông minh dựa trên dữ liệu người dùng như lịch sử nghe nhạc, sở thích, phản hồi của họ với trợ lý ảo.\n",
    "    - Tối ưu hóa quy trình phân tích và xử lý dữ liệu để cung cấp gợi ý chính xác và đa dạng.\n",
    "    - Tích hợp các yếu tố như thị trường âm nhạc, xu hướng mới và thông tin về nghệ sĩ để cung cấp gợi ý đa chiều và hấp dẫn.\n",
    "    - Tạo ra một giao diện người dùng thân thiện và dễ sử dụng, cho phép người dùng tùy chỉnh và tương tác với các gợi ý theo ý muốn của họ.\n",
    "    - Đánh giá và cải tiến liên tục hệ thống dựa trên phản hồi từ người dùng và dữ liệu sử dụng.\n",
    "\n",
    "### 3. Phạm vi của đề tài\n",
    "Với đề tài này, để có thể làm việc một cách hiệu quả, chúng em xin phép đặt ra phạm vi cho các phần nhiệm vụ chính như sau:\n",
    "- Thu thập và xử lý dữ liệu: Phạm vi này bao gồm việc thu thập dữ liệu về lịch sử nghe nhạc, thông tin người dùng, các yếu tố khác liên quan đến sở thích âm nhạc của ngưỡi dùng; dữ liệu về các bài nhạc, các xu hướng nghe nhạc. Sau đó, dữ liệu này được xử lý, làm tiền đề cho việc xây dựng mô hình AI và huấn luyện mô hình AI.\n",
    "- Xây dựng và huấn luyện mô hình AI: Phạm vi này tập trung vào việc phát triển các thuật toán học máy để dự đoán sở thích của người dùng và gợi ý cho họ các bài hát, album hoặc playlist phù hợp.\n",
    "- Tích hợp thông tin về âm nhạc: Phạm vi này bao gồm việc tích hợp thông tin về thị trường âm nhạc, xu hướng mới và thông tin về nghệ sĩ vào quá trình gợi ý để cung cấp cho người dùng các gợi ý đa dạng và phong phú.\n",
    "- Phát triển giao diện người dùng: Phạm vi này liên quan đến việc thiết kế và phát triển giao diện người dùng trực quan và dễ sử dụng để người dùng có thể tương tác và tùy chỉnh các gợi ý theo ý muốn của họ.\n",
    "- Đánh giá và cải tiến: Phạm vi này bao gồm việc đánh giá hiệu suất của hệ thống gợi ý thông qua các phản hồi từ người dùng và dữ liệu sử dụng, sau đó cải tiến hệ thống để tối ưu hóa trải nghiệm người dùng.\n",
    "\n",
    "-> Trên đây là những phạm vi chúng em đã đặt ra để quá trình thực hiện dự án có thể diễn ra một cách ổn định. Chúng em cũng mong răng với phạm vi này, chúng em có thể tạo ra một sản phẩm chất lượng\n",
    "\n",
    "\n"
   ]
  },
  {
   "cell_type": "markdown",
   "metadata": {},
   "source": [
    "## II. Khảo sát bài toán\n",
    "\n",
    "### 1. Tóm tắt yêu cầu\n",
    "- Mô phỏng, xây dựng các thuật toán trí tuệ nhân tạo để tích hợp vào ứng dụng phát nhạc trực tuyến, giúp cá nhân hóa danh sách phát của người dùng\n",
    "- Có thể xây dựng một, hoặc sử dụng nhiều mô hình thuật toán. Sau khi xây dựng các thuật toán yêu cầu phải so sánh độ hiệu quả để tìm ra thuật toán phù hợp\n",
    "- Áp dụng vào chương trình tìm kiếm của ứng dụng đó sao cho hệ thống có thể gợi ý các bài hát phù hợp với từng người dùng, tùy vào lịch sử nghe và các nghệ sĩ người dùng yêu thích\n",
    "\n",
    "### 2. Khảo sát chung về cách xây dựng bài toán\n",
    "\n",
    "#### 2.1. Các mô hình thuật toán\n",
    "- Một số tài liệu tham khảo được sử dụng trong vấn đề xây dựng mô hình giải thuật gợi ý bài hát cho người dùng:\n",
    "\n",
    "<figure>\n",
    "    <img src=\"../Cuoi_Ki/Chart_1.png\" style=\"width:60%;height:60%;\">\n",
    "    <figcaption>Framework cho chương trình đề xuất nhạc</figcaption>\n",
    "</figure>\n",
    "\n",
    "<figure>\n",
    "    <img src=\"./Chart_2.png\" style=\"width:60%;height:60%;\">\n",
    "    <figcaption>Framework cho chương trình đề xuất nhạc</figcaption>\n",
    "</figure>\n",
    "\n",
    "#### 2.2. Các bước tiến hành\n",
    "- **Bước 1: Thu thập dữ liệu:**\n",
    "    - Điều này bao gồm thông tin về bài hát được nghe, thời gian nghe, thể loại nhạc, và các thao tác tương tác khác trên nền tảng.\n",
    "    - Dữ liệu này được sử dụng để hiểu sở thích và yêu cầu âm nhạc của mỗi người dùng.\n",
    "- **Bước 2: Phân tích dữ liệu:**\n",
    "    - Phân tích dữ liệu để hiểu sở thích của người dùng. Điều này có thể bao gồm phân tích thể loại nhạc, phát hiện xu hướng, và xác định các yếu tố quan trọng khác như nghệ sĩ, album, và tỷ lệ lắng nghe.\n",
    "    - Sự tương tác của người dùng với các bài hát khác nhau, bao gồm việc thích, bỏ qua, lưu vào thư viện, v.v.\n",
    "- **Bước 3: Xây dựng mô hình:**\n",
    "    - Xây dựng/sử dụng mô hình học máy để dự đoán sở thích âm nhạc của người dùng.\n",
    "    - Mô hình này được huấn luyện trên dữ liệu lịch sử phát nhạc của người dùng để tạo ra các đề xuất phát nhạc cá nhân hóa.\n",
    "- **Bước 4: Tích hợp vào ứng dụng:**\n",
    "    - Tích hợp trực tiếp vào ứng dụng như Spotify, nơi người dùng có thể truy cập và nghe từ trang cá nhân của họ.\n",
    "    - Các bài hát được đề xuất dựa trên mô hình cá nhân hóa và được cập nhật mỗi tuần.\n",
    "- **Bước 5: Đánh giá và tinh chỉnh:**\n",
    "    - Đánh giá hiệu suất của thông qua phản hồi từ người dùng và các phương tiện đo lường khác như tỷ lệ nghe, thời lượng nghe, v.v.\n",
    "    - Dựa trên thông tin này để tinh chỉnh mô hình, cải thiện chất lượng của các đề xuất phát nhạc.\n",
    "\n",
    "### 3. Mô tả nghiệp vụ\n",
    "- Dựa trên yêu cầu này, ta có thể phân chia thành 3 nhóm nghiệp vụ cơ bản:\n",
    "\n",
    "    - **Bước 1. Thu thập và xử lý dữ liệu người dùng và bài hát**\n",
    "    - **Bước 2. Phát triển và huấn luyện mô hình trí tuệ nhân tạo**\n",
    "    - **Bước 3. Cá nhân hóa và đề xuất danh sách phát**"
   ]
  },
  {
   "cell_type": "markdown",
   "metadata": {},
   "source": [
    "## III. Phương pháp giải quyết và thực hiện\n",
    "##### Giai đoạn 1. Thu thập và xử lý dữ liệu người dùng và bài hát:\n",
    "    - Áp dụng chính xác các bước đã trình bày ở trên:\n",
    "    \n",
    "<figure>\n",
    "    <img src=\"../Cuoi_Ki/N1.png\" style=\"width:60%;height:60%;\">\n",
    "    <figcaption>File dữ liệu ban đầu</figcaption>\n",
    "</figure>\n",
    "\n",
    "- Từ một tệp dữ liệu thô ban đầu (danh sách 114000 bài hát được người dùng ưa chuộng) có nhiều sai sót như thể loại, url bài hát và url nghệ sĩ bị thiếu. Nhóm đã thực hiện tách bổ sung bằng những thông tin lấy được qua Spotify API.\n",
    "\n",
    "\n"
   ]
  },
  {
   "cell_type": "code",
   "execution_count": null,
   "metadata": {},
   "outputs": [],
   "source": [
    "#Import from the other file\n",
    "from scripts.ari import ari_to_features\n",
    "import pandas as pd\n",
    "from tqdm import tqdm\n",
    "import re\n",
    "#Load the raw_data from the repo\n",
    "dataPath = '../data/dataset.csv'\n",
    "df = pd.read_csv(dataPath)\n",
    "df.head(5)\n",
    "df.columns\n",
    "# Chia 114k bài hát thành 6 phần\n",
    "# first_half = df[\"track_id\"].unique()[:19000]\n",
    "# second_half = df[\"track_id\"].unique()[19000:38000]\n",
    "# third_half = df[\"track_id\"].unique()[38000:57000]\n",
    "# fourth_half = df[\"track_id\"].unique()[57000:76000]\n",
    "# fifth_half = df[\"track_id\"].unique()[76000:95000]\n",
    "# sixth_half = df[\"track_id\"].unique()[95000:]\n",
    "# dataLIST = [first_half,second_half,third_half,fourth_half,fifth_half,sixth_half]\n",
    "first_half = df[\"track_id\"].unique()[5000:6000]\n",
    "second_half = df[\"track_id\"].unique()[6000:7000]\n",
    "third_half = df[\"track_id\"].unique()[7000:8000]\n",
    "fourth_half = df[\"track_id\"].unique()[8000:9000]\n",
    "fifth_half = df[\"track_id\"].unique()[9000:10000]\n",
    "dataLIST = [first_half,second_half,third_half,fourth_half,fifth_half]\n"
   ]
  },
  {
   "cell_type": "code",
   "execution_count": null,
   "metadata": {},
   "outputs": [],
   "source": [
    "# Chia `first_half` thành các cụm 100 IDs mỗi cụm\n",
    "chunks = [first_half[i:i+100] for i in range(0, len(first_half), 100)]\n",
    "# Gọi `ari_to_features` cho từng cụm 100 IDs\n",
    "for chunk in tqdm(chunks):\n",
    "    try:\n",
    "        featureLIST.extend(ari_to_features(chunk))\n",
    "    except Exception as e:\n",
    "        print(f\"An error occurred: {e}\")"
   ]
  },
  {
   "cell_type": "markdown",
   "metadata": {},
   "source": [
    "- Vì spotify giới hạn số lần requests cho mỗi tài khoản nên để có thể lấy hết toàn bô 114000 bài hát (yêu cầu 2 requests cho 100 bài) tốn rất nhiều thời gian, chính vì thế nên cũng phải chia nhỏ tệp ra thành các phần nhỏ để thực hiện crawl.\n",
    "\n",
    "- Hàm ari_to_features sẽ cho phép lấy các trường thuộc tính ta cần :"
   ]
  },
  {
   "cell_type": "code",
   "execution_count": null,
   "metadata": {},
   "outputs": [],
   "source": [
    "def ari_to_features(track_ids):\n",
    "    try:\n",
    "        access_token = get_access_token()\n",
    "        features_list = []\n",
    "        headers = {'Authorization': f'Bearer {access_token}'}\n",
    "\n",
    "        for ari in track_ids:\n",
    "            track_response = requests.get(f'https://api.spotify.com/v1/tracks/{ari}', headers=headers)\n",
    "            track_info = track_response.json()\n",
    "\n",
    "            artist_id = track_info['artists'][0]['id']\n",
    "            artist_response = requests.get(f'https://api.spotify.com/v1/artists/{artist_id}', headers=headers)\n",
    "            artist_info = artist_response.json()\n",
    "\n",
    "            artist_name = track_info['artists'][0]['name']\n",
    "            artist_uri = track_info['artists'][0]['uri']\n",
    "            track_name = track_info['name']\n",
    "            album_uri = track_info['album']['uri']\n",
    "            album_name = track_info['album']['name']\n",
    "            image_uri = track_info['album']['images'][0]['url'] if track_info['album']['images'] else None\n",
    "\n",
    "            artist_pop = artist_info['popularity']\n",
    "            artist_genres = artist_info['genres']\n",
    "            track_pop = track_info['popularity']\n",
    "\n",
    "            features = {\n",
    "                'id': ari,\n",
    "                'artist_pop': artist_pop,\n",
    "                'artist_name': artist_name,\n",
    "                'artist_uri': artist_uri,\n",
    "                'track_name': track_name,\n",
    "                'album_uri': album_uri,\n",
    "                'album_name': album_name,\n",
    "                'image_uri': image_uri,\n",
    "                'track_pop': track_pop,\n",
    "                'genres': ' '.join([genre.replace(' ', '_') for genre in artist_genres]) if artist_genres else 'unknown'\n",
    "            }\n",
    "\n",
    "            features_list.append(features)\n",
    "\n",
    "        return features_list\n",
    "    except Exception as e:\n",
    "        print('Something went wrong!', e)\n"
   ]
  },
  {
   "cell_type": "markdown",
   "metadata": {},
   "source": [
    "- Sau khi thu thập dữ liệu còn thiếu ta tiến hành ghép theo id :\n",
    "\n",
    "new_df = pd.merge(testDF,featureDF, left_on = \"track_id\", right_on= \"id\")\n",
    "\n",
    "- Với testDF là các trường thuộc tính đã có, featureDF là các trường thuộc tính mới lấy về. \n",
    "\n",
    "new_df.to_csv('../data/processed_data.csv')\n",
    "\n",
    "- Cuối cùng lưu vào trong file kết quả : processed_data.csv.\n"
   ]
  },
  {
   "cell_type": "markdown",
   "metadata": {},
   "source": [
    "##### Giai đoạn 2: Phát triển và huấn luyện mô hình trí tuệ nhân tạo:\n",
    "- Để phát triển và huấn luyện mô hình trí tuệ nhân tạo: nhóm sẽ sử dụng 3 phương pháp chính.\n",
    "    - Độ tương tự cosin\n",
    "    - Chuẩn hóa dữ liệu\n",
    "    - Tf–idf\n",
    "- Các dữ liệu thu được từ giai đoạn 1 là một danh sách các cột cùng các giá trị, trong đó có rất nhiều cột thông tin không có nhiều tác dụng cho việc đánh giá, cũng như việc xuất hiện của chúng khiến cho quá trình huấn luyện gặp nhiều khó khăn, vậy nên ta cần loại bỏ các cột dư thừa và lấy các cột cần xét:\n"
   ]
  },
  {
   "cell_type": "code",
   "execution_count": null,
   "metadata": {},
   "outputs": [],
   "source": [
    "playlistDF = pd.read_csv(\"../data/processed_data.csv\")\n",
    "print(playlistDF.columns)\n",
    "playlistDF.drop(columns=[\"Unnamed: 0\",\"Unnamed: 0.1\"], inplace = True)\n",
    "playlistDF.drop(columns=[\"track_name_x\"], inplace=True)\n",
    "playlistDF.rename(columns={\"track_name_y\": \"track_name\"}, inplace=True)\n",
    "playlistDF.head()"
   ]
  },
  {
   "cell_type": "markdown",
   "metadata": {},
   "source": [
    "<figure>\n",
    "    <img src=\"./N2.png\" style=\"width:60%;height:60%;\">\n",
    "</figure>\n",
    "\n",
    "playlistDF[['artist_name','track_name']]\n",
    "\n",
    "<figure>\n",
    "    <img src=\"./N3.png\" style=\"width:60%;height:60%;\">\n",
    "</figure>\n",
    "\n",
    "- Ta thấy các dữ liệu lấy từ các nguồn khác nhau sẽ có trường hợp có nhiều bài hát giống nhau trong danh sách, ta gần gộp tên bài và tên tác giả vào và loại bỏ đi các bài hát có artist_name|track_name trùng nhau(phải gộp tên 2 cột vào để tránh các bài hát cùng tên nhưng khác tác giả)\n",
    "- Tiếp theo, ta chỉ lựa chọn các cột có ích trong việc phân tích\n"
   ]
  },
  {
   "cell_type": "code",
   "execution_count": null,
   "metadata": {},
   "outputs": [],
   "source": [
    "def select_cols(df):\n",
    "       return df[['artist_name','id','track_name','danceability', 'energy', 'key', 'loudness', 'mode',\n",
    "       'speechiness', 'acousticness', 'instrumentalness', 'liveness', 'valence', 'tempo', \"artist_pop\", \"genres\", \"track_pop\",\"image_uri\"]]\n",
    "songDF = select_cols(songDF)\n",
    "songDF.head()"
   ]
  },
  {
   "cell_type": "markdown",
   "metadata": {},
   "source": [
    "- Tên của một bài hát cũng có thể trở thành giá trị xét nếu ta phân tích cảm xúc mà tên bài hát đem lại:"
   ]
  },
  {
   "cell_type": "code",
   "execution_count": null,
   "metadata": {},
   "outputs": [],
   "source": [
    "def getSubjectivity(text):\n",
    "  return TextBlob(text).sentiment.subjectivity\n",
    "\n",
    "def getPolarity(text):\n",
    "  return TextBlob(text).sentiment.polarity\n",
    "\n",
    "def getAnalysis(score, task=\"polarity\"):\n",
    "  if task == \"subjectivity\":\n",
    "    if score < 1/3:\n",
    "      return \"low\"\n",
    "    elif score > 1/3:\n",
    "      return \"high\"\n",
    "    else:\n",
    "      return \"medium\"\n",
    "  else:\n",
    "    if score < 0:\n",
    "      return 'Negative'\n",
    "    elif score == 0:\n",
    "      return 'Neutral'\n",
    "    else:\n",
    "      return 'Positive'\n",
    "\n",
    "def sentiment_analysis(df, text_col):\n",
    "  df['subjectivity'] = df[text_col].apply(getSubjectivity).apply(lambda x: getAnalysis(x,\"subjectivity\"))\n",
    "  df['polarity'] = df[text_col].apply(getPolarity).apply(getAnalysis)\n",
    "  return df\n"
   ]
  },
  {
   "cell_type": "markdown",
   "metadata": {},
   "source": [
    "<figure>\n",
    "    <img src=\"./N4.png\" style=\"width:60%;height:60%;\">\n",
    "</figure>\n",
    "\n",
    "- Trước khi có thể xác định trọng số của các thể loại có trong một bài hát, ta sẽ tách một list các thể loại ra thành từng thể loại một, ví dụ:\n",
    "- Một “từ điển” sẽ được xây dựng chứa tất cả các giá trị khả dĩ của từng dữ liệu hạng mục. Sau đó mỗi giá trị hạng mục sẽ được mã hóa bằng một vector nhị phân với toàn bộ các phần tử bằng 0 trừ một phần tử bằng 1 tương ứng với vị trí của giá trị hạng mục đó trong từ điển.\n",
    "\n",
    "<figure>\n",
    "    <img src=\"./N5.png\" style=\"width:60%;height:60%;\">\n",
    "</figure>\n"
   ]
  },
  {
   "cell_type": "code",
   "execution_count": null,
   "metadata": {},
   "outputs": [],
   "source": [
    "def ohe_prep(df, column, new_name): \n",
    "    tf_df = pd.get_dummies(df[column])\n",
    "    feature_names = tf_df.columns\n",
    "    tf_df.columns = [new_name + \"|\" + str(i) for i in feature_names]\n",
    "    tf_df.reset_index(drop = True, inplace = True)    \n",
    "    return tf_df"
   ]
  },
  {
   "cell_type": "markdown",
   "metadata": {},
   "source": [
    "- Sau đó ta sẽ có thể tính trọng số của thể loại thông qua số lần thể loại đó xuất hiện trong dữ liệu:"
   ]
  },
  {
   "cell_type": "code",
   "execution_count": null,
   "metadata": {},
   "outputs": [],
   "source": [
    "tfidf = TfidfVectorizer()\n",
    "tfidf_matrix =  tfidf.fit_transform(songDF['genres_list'].apply(lambda x: \" \".join(x)))\n",
    "genre_df = pd.DataFrame(tfidf_matrix.toarray())\n",
    "genre_df.columns = ['genre' + \"|\" + i for i in tfidf.get_feature_names_out()]\n",
    "genre_df.reset_index(drop = True, inplace=True)\n",
    "genre_df.iloc[0]\n"
   ]
  },
  {
   "cell_type": "markdown",
   "metadata": {},
   "source": [
    "<figure>\n",
    "    <img src=\"./N6.png\" style=\"width:60%;height:60%;\">\n",
    "</figure>\n",
    "\n",
    "- Tiếp theo, ta cần chuẩn hóa lại các giá trị lớn hơn 1 ví dụ như độ nổi tiếng của các bài hát và nghệ sĩ, việc chuẩn hóa về khoảng giá trị 0-1 sẽ giúp ta sử dụng hàm cosine_similarity tốt hơn về sau:\n",
    "\n",
    "print(songDF['artist_pop'].describe())\n",
    "- Trước khi chuẩn hóa :\n",
    "\n",
    "<figure>\n",
    "    <img src=\"./N7.png\" style=\"width:1200%;height:1200%;\">\n",
    "</figure>\n",
    "\n",
    "Khi chuẩn hóa :"
   ]
  },
  {
   "cell_type": "code",
   "execution_count": null,
   "metadata": {},
   "outputs": [],
   "source": [
    "pop = songDF[[\"artist_pop\"]].reset_index(drop = True)\n",
    "scaler = MinMaxScaler()\n",
    "pop_scaled = pd.DataFrame(scaler.fit_transform(pop), columns = pop.columns)\n",
    "pop_scaled.head()"
   ]
  },
  {
   "cell_type": "markdown",
   "metadata": {},
   "source": [
    "\n",
    "<figure>\n",
    "    <img src=\"./N8.png\" style=\"width:60%;height:60%;\">\n",
    "</figure>\n",
    "\n",
    "- Gộp lại tất cả các bước trên ta sẽ có được một bài hát với các đặc trưng được xử lý tốt phục vụ cho mô hình gợi ý bài hát :"
   ]
  },
  {
   "cell_type": "code",
   "execution_count": null,
   "metadata": {},
   "outputs": [],
   "source": [
    "def create_feature_set(df, float_cols):    \n",
    "    tfidf = TfidfVectorizer()\n",
    "    tfidf_matrix =  tfidf.fit_transform(df['genres_list'].apply(lambda x: \" \".join(x)))\n",
    "    genre_df = pd.DataFrame(tfidf_matrix.toarray())\n",
    "    genre_df.columns = ['genre' + \"|\" + i for i in tfidf.get_feature_names_out()]\n",
    "    genre_df.drop(columns='genre|unknown') # drop unknown genre\n",
    "    genre_df.reset_index(drop = True, inplace=True)\n",
    "    \n",
    "    df = sentiment_analysis(df, \"track_name\")\n",
    "\n",
    "    subject_ohe = ohe_prep(df, 'subjectivity','subject') * 0.3\n",
    "    polar_ohe = ohe_prep(df, 'polarity','polar') * 0.5\n",
    "    key_ohe = ohe_prep(df, 'key','key') * 0.5\n",
    "    mode_ohe = ohe_prep(df, 'mode','mode') * 0.5\n",
    "\n",
    "    pop = df[[\"artist_pop\",\"track_pop\"]].reset_index(drop = True)\n",
    "    scaler = MinMaxScaler()\n",
    "    pop_scaled = pd.DataFrame(scaler.fit_transform(pop), columns = pop.columns) * 0.2 \n",
    "\n",
    "    floats = df[float_cols].reset_index(drop = True)\n",
    "    scaler = MinMaxScaler()\n",
    "    floats_scaled = pd.DataFrame(scaler.fit_transform(floats), columns = floats.columns) * 0.2\n",
    "\n",
    "    final = pd.concat([genre_df, floats_scaled, pop_scaled, subject_ohe, polar_ohe, key_ohe, mode_ohe], axis = 1)\n",
    "    \n",
    "    final['id']=df['id'].values\n",
    "    \n",
    "    return final"
   ]
  },
  {
   "cell_type": "markdown",
   "metadata": {},
   "source": [
    "<figure>\n",
    "    <img src=\"./N9.png\" style=\"width:60%;height:60%;\">\n",
    "</figure>\n",
    "\n",
    "- Ta lưu songDF(danh sách các bài hát) đã lược bỏ, điều chỉnh các cột có ích cho mô hình và complete_feature_set(một set các đặc trưng đầy đủ của bài hát, phân biệt với nhau bởi id trong  từng dòng)\n",
    "\n",
    "##### Giai đoạn 3: Cá nhân hóa và đề xuất danh sách phát\n",
    "- Ta sẽ coi mỗi giá trị của từng cột trong 1 dòng ở complete_feature_set như là các thành phần tạo nên một vecto bài hát\n",
    "\n",
    "<figure>\n",
    "    <img src=\"./N10.png\" style=\"width:60%;height:60%;\">\n",
    "</figure>\n",
    "\n",
    "Nếu vậy thì mỗi bài hát sẽ giống hay khác nhau, tùy thuộc vào góc giữa 2 vecto đó, vì góc của 2 vecto càng bé thì sự sai khác càng nhỏ, từ lý thuyết đó ta có:"
   ]
  },
  {
   "cell_type": "code",
   "execution_count": null,
   "metadata": {},
   "outputs": [],
   "source": [
    "def generate_song_feature(complete_feature_set, song_id):\n",
    "    song_features = complete_feature_set[complete_feature_set['id'] == song_id].drop(columns='id').iloc[0]\n",
    "    \n",
    "    return song_features\n"
   ]
  },
  {
   "cell_type": "markdown",
   "metadata": {},
   "source": [
    "Hàm trên sẽ lấy đặc trưng của bài hát có trong dataset dựa trên id của nó:\n",
    "<figure>\n",
    "    <img src=\"./N11.png\" style=\"width:60%;height:60%;\">\n",
    "    <figcaption>Tìm kiếm các danh mục/ bài hát</figcaption>\n",
    "</figure>\n",
    "\n",
    "Sau đó nó sẽ so sánh với các vecto còn lại trong allsong_data để có thể tìm ra các bài hát giống nhất(Content-based filtering)"
   ]
  },
  {
   "cell_type": "code",
   "execution_count": null,
   "metadata": {},
   "outputs": [],
   "source": [
    "def generate_song_recos(df, song_id, complete_feature_set, top_n=10):    \n",
    "    # Check if song_id is in complete_feature_set\n",
    "    if song_id in complete_feature_set['id'].values:\n",
    "        # Extract features of the specific song\n",
    "        song_features = complete_feature_set[complete_feature_set['id'] == song_id].drop(columns='id').iloc[0].values.reshape(1, -1)\n",
    "    else:\n",
    "        print(\"No track found in dataset\")\n",
    "    \n",
    "    # Compute cosine similarity between the specific song and all songs in the dataset\n",
    "    similarities = cosine_similarity(song_features, complete_feature_set.drop(columns='id').values)\n",
    "    \n",
    "    # Sort the similarities and get indices of top recommendations\n",
    "    top_indices = similarities.argsort()[0][-top_n:][::-1]\n",
    "    \n",
    "    # Get top recommendations\n",
    "    recommendations = df.iloc[top_indices]\n",
    "    \n",
    "    return recommendations\n",
    "\n",
    "# Lấy đặc trưng của bài hát được chỉ định\n",
    "recommendations = generate_song_recos(songDF, \"2sYFi9xVSZ56WHKSY2fN1K\", complete_feature_set)\n"
   ]
  },
  {
   "cell_type": "markdown",
   "metadata": {},
   "source": [
    "<figure>\n",
    "    <img src=\"./N12.png\" style=\"width:60%;height:60%;\">\n",
    "    <figcaption>Tìm kiếm các danh mục/ bài hát</figcaption>\n",
    "</figure>\n",
    "\n",
    "Trên là các bài hát có độ giống gần nhất với bài hát So far away – Acoustic"
   ]
  },
  {
   "cell_type": "markdown",
   "metadata": {},
   "source": [
    "## IV. Kết quả\n",
    "### 1. Kết quả quá trình crawl dữ liệu\n",
    "- Quá trình thu thập dữ liệu được coi là thành công khi tất cả các thành viên trong nhóm đều đã thành thạo trong việc thu thập thông tin về các bài hát, bao gồm cả thông tin về nghệ sĩ, album, và các yếu tố chi tiết như nhịp điệu, cung nhạc, và nhiều hơn nữa. Điều này tạo điều kiện cho việc mở rộng tệp dữ liệu, phục vụ cho các ứng dụng và dự án trong tương lai.\n",
    "- Với sự thành thạo trong việc thu thập dữ liệu, nhóm đã hoàn thành việc tạo ra một tệp dữ liệu đầy đủ, chứa tất cả các trường thông tin cần thiết để tiến hành xử lý và huấn luyện mô hình. Điều này tạo ra một cơ sở vững chắc cho các công việc tiếp theo của dự án.\n",
    "\n",
    "<figure>\n",
    "    <img src=\"./N1.png\" style=\"width:60%;height:60%;\">\n",
    "</figure>\n",
    "\n",
    "### 2. Giao diện người dùng\n",
    "<figure>\n",
    "    <img src=\"./FE1.png\" style=\"width:60%;height:60%;\">\n",
    "    <figcaption>Giao diện trang chủ</figcaption>\n",
    "</figure>\n",
    "<figure>\n",
    "    <img src=\"./FE2.png\" style=\"width:60%;height:60%;\">\n",
    "    <figcaption>Giao diện AI Suggestion</figcaption>\n",
    "</figure>\n",
    "<figure>\n",
    "    <img src=\"./FE3.png\" style=\"width:60%;height:60%;\">\n",
    "    <figcaption>Giao diện tìm kiếm danh mục và bài hát</figcaption>\n",
    "</figure>\n",
    "\n",
    "Trên đây là giao diện bọn em đã xây dựng cho phàn mềm này. Vì đây là phần mềm hướng đến chức năng gợi ý bài nhạc cho người dùng. Em sẽ trình bày rõ hơn về phương pháp sử dụng và luồng hoạt động của trang AI Suggestion. Luồng hoạt động như sau:\n",
    "- Khi vào hệ thống, người dùng sẽ chọn chức năng AI Suggestion trên thanh sidebar\n",
    "- Tiếp đó, người dùng sẽ nhập vào từ khóa hoặc tên một bài hát muốn tìm\n",
    "- Các bài hát có liên quan sẽ hiện ra trong cột search result sau khi tìm kiếm\n",
    "- Người dùng ấn vào một bài hát nào đó, hệ thống sẽ lấy thông tin bài hát\n",
    "- Sau đó hệ thống gửi về dịch vụ AI của bọn em, dịch vụ này sẽ phân tích và đưa ra gợi ý\n",
    "- Thông tin về các gợi ý sẽ được hiển thị ở cột Suggestion by AI\n",
    "\n",
    "### 3. Demo quá trình gợi ý bài hát\n",
    "\n",
    "- Hệ thống hỗ trợ AI Suggestion, yêu cầu người dùng nhập vào một keyword, hệ thống sẽ gợi ý ra một list các bài hát liên quan đến từ khóa vừa nhập vào cột Searching Results:\n",
    "<figure>\n",
    "    <img src=\"./H1.png\" style=\"width:60%;height:60%;\">\n",
    "</figure>\n",
    "\n",
    "- Người dùng chọn một bài hát bất kì trong danh sách hiện lên, AI Suggestion sẽ tìm kiếm các bài hát liên quan nhất đến bài hát vừa chọn dựa trên các thuật toán đã giải thích bên trên và trả về kết quả ở cột Suggestion By AI:\n",
    "<figure>\n",
    "    <img src=\"./H2.png\" style=\"width:60%;height:60%;\">\n",
    "</figure>\n",
    "\n",
    "- Ngoài ra khi người dùng ấn một bài hát bất kì, có thể chuyển hướng đến trang của Sportify để nghe nhạc (nếu cần thiết):\n",
    "<figure>\n",
    "    <img src=\"../Cuoi_Ki/F1.png\" style=\"width:60%;height:60%;\">\n",
    "</figure>\n",
    "\n",
    "- Người dùng có thể ấn để xem thông tin chi tiết của bài hát (nếu cần):\n",
    "<figure>\n",
    "    <img src=\"../Cuoi_Ki/H3.png\" style=\"width:60%;height:60%;\">\n",
    "</figure>\n",
    "\n",
    "<figure>\n",
    "    <img src=\"../Cuoi_Ki/H4.png\" style=\"width:60%;height:60%;\">\n",
    "</figure>\n",
    "\n",
    "Trong hai hình trên ta có thể thấy rõ các thông số của bài hát gợi ý tương đối giống với bài hát lựa chọn."
   ]
  }
 ],
 "metadata": {
  "kernelspec": {
   "display_name": "Python 3",
   "language": "python",
   "name": "python3"
  },
  "language_info": {
   "codemirror_mode": {
    "name": "ipython",
    "version": 3
   },
   "file_extension": ".py",
   "mimetype": "text/x-python",
   "name": "python",
   "nbconvert_exporter": "python",
   "pygments_lexer": "ipython3",
   "version": "3.11.8"
  }
 },
 "nbformat": 4,
 "nbformat_minor": 2
}
