{
 "cells": [
  {
   "cell_type": "markdown",
   "metadata": {},
   "source": [
    "# Extracting Features From the Original Dataset\n",
    "\n",
    "This notebook is used to extract features from the original dataset, which gives us limited information about the songs. Here, we use the \"ari.py\" script to extract a set of features about each song, along with the popularities of both the artist and song itself, along with genres"
   ]
  },
  {
   "cell_type": "code",
   "execution_count": 1,
   "metadata": {},
   "outputs": [],
   "source": [
    "#Import from the other file\n",
    "from scripts.ari import ari_to_features\n",
    "import pandas as pd\n",
    "from tqdm import tqdm\n",
    "import re"
   ]
  },
  {
   "cell_type": "code",
   "execution_count": 2,
   "metadata": {},
   "outputs": [
    {
     "data": {
      "text/plain": [
       "Index(['Unnamed: 0', 'track_id', 'artists', 'album_name', 'track_name',\n",
       "       'popularity', 'duration_ms', 'explicit', 'danceability', 'energy',\n",
       "       'key', 'loudness', 'mode', 'speechiness', 'acousticness',\n",
       "       'instrumentalness', 'liveness', 'valence', 'tempo', 'time_signature',\n",
       "       'track_genre'],\n",
       "      dtype='object')"
      ]
     },
     "execution_count": 2,
     "metadata": {},
     "output_type": "execute_result"
    }
   ],
   "source": [
    "#Load the raw_data from the repo\n",
    "dataPath = '../data/dataset.csv'\n",
    "df = pd.read_csv(dataPath)\n",
    "df.head(5)\n",
    "df.columns"
   ]
  },
  {
   "cell_type": "code",
   "execution_count": null,
   "metadata": {},
   "outputs": [],
   "source": [
    "# #Edit the track-uris to a more usable format\n",
    "# df[\"track_uri\"] = df[\"track_uri\"].apply(lambda x: re.findall(r'\\w+$', x)[0])\n",
    "# df[\"track_uri\"]"
   ]
  },
  {
   "cell_type": "code",
   "execution_count": 3,
   "metadata": {},
   "outputs": [],
   "source": [
    "testDF = df\n",
    "#feature = ari_to_features(df[\"track_uri\"])\n",
    "#feature_df_test = pd.DataFrame(feature)\n",
    "#feature_df_test.head()"
   ]
  },
  {
   "cell_type": "markdown",
   "metadata": {},
   "source": [
    "## Included Features\n",
    "\n",
    "The code cell below gives an example of the features extracted from each track, showing the kind of information that is used to cluster the data further on."
   ]
  },
  {
   "cell_type": "code",
   "execution_count": null,
   "metadata": {},
   "outputs": [],
   "source": [
    "#Test the feature extraction script, and display features\n",
    "ari_to_features(df[\"track_id\"][:5])"
   ]
  },
  {
   "cell_type": "markdown",
   "metadata": {},
   "source": [
    "## Extraction\n",
    "\n",
    "Below here, we extract features from each track using the Spotify API and the associated URI. This is done in 3 sections, due to the extremely long runtime of this process. We build a DataFrame containing these features."
   ]
  },
  {
   "cell_type": "markdown",
   "metadata": {},
   "source": [
    "We only take 10000 first songs:"
   ]
  },
  {
   "cell_type": "code",
   "execution_count": 4,
   "metadata": {},
   "outputs": [],
   "source": [
    "# full 114k songs\n",
    "# first_half = df[\"track_id\"].unique()[:19000]\n",
    "# second_half = df[\"track_id\"].unique()[19000:38000]\n",
    "# third_half = df[\"track_id\"].unique()[38000:57000]\n",
    "# fourth_half = df[\"track_id\"].unique()[57000:76000]\n",
    "# fifth_half = df[\"track_id\"].unique()[76000:95000]\n",
    "# sixth_half = df[\"track_id\"].unique()[95000:]\n",
    "# dataLIST = [first_half,second_half,third_half,fourth_half,fifth_half,sixth_half]\n",
    "first_half = df[\"track_id\"].unique()[5000:6000]\n",
    "second_half = df[\"track_id\"].unique()[6000:7000]\n",
    "third_half = df[\"track_id\"].unique()[7000:8000]\n",
    "fourth_half = df[\"track_id\"].unique()[8000:9000]\n",
    "fifth_half = df[\"track_id\"].unique()[9000:10000]\n",
    "dataLIST = [first_half,second_half,third_half,fourth_half,fifth_half]"
   ]
  },
  {
   "cell_type": "code",
   "execution_count": 5,
   "metadata": {},
   "outputs": [],
   "source": [
    "featureLIST = []"
   ]
  },
  {
   "cell_type": "code",
   "execution_count": null,
   "metadata": {},
   "outputs": [],
   "source": [
    "try:\n",
    "    featureLIST.append(ari_to_features(first_half))\n",
    "except Exception as e:\n",
    "    print(f\"Error processing track ID: {e}\")"
   ]
  },
  {
   "cell_type": "code",
   "execution_count": 6,
   "metadata": {},
   "outputs": [
    {
     "name": "stderr",
     "output_type": "stream",
     "text": [
      "100%|██████████| 8/8 [11:09<00:00, 83.72s/it]\n"
     ]
    }
   ],
   "source": [
    "# Chia `first_half` thành các cụm 100 IDs mỗi cụm\n",
    "chunks = [fifth_half[i:i+100] for i in range(0, len(fifth_half), 100)]\n",
    "# Gọi `ari_to_features` cho từng cụm 100 IDs\n",
    "for chunk in tqdm(chunks):\n",
    "    try:\n",
    "        featureLIST.extend(ari_to_features(chunk))\n",
    "    except Exception as e:\n",
    "        print(f\"An error occurred: {e}\")\n"
   ]
  },
  {
   "cell_type": "code",
   "execution_count": null,
   "metadata": {},
   "outputs": [],
   "source": [
    "for i in tqdm([uri for uri in dataLIST[1]]):\n",
    "    try:\n",
    "        featureLIST.append(ari_to_features(i))\n",
    "    except:\n",
    "        continue"
   ]
  },
  {
   "cell_type": "code",
   "execution_count": null,
   "metadata": {},
   "outputs": [],
   "source": [
    "for i in tqdm([uri for uri in dataLIST[2]]):\n",
    "    try:\n",
    "        featureLIST.append(ari_to_features(i))\n",
    "    except:\n",
    "        continue"
   ]
  },
  {
   "cell_type": "code",
   "execution_count": 7,
   "metadata": {},
   "outputs": [
    {
     "data": {
      "text/html": [
       "<div>\n",
       "<style scoped>\n",
       "    .dataframe tbody tr th:only-of-type {\n",
       "        vertical-align: middle;\n",
       "    }\n",
       "\n",
       "    .dataframe tbody tr th {\n",
       "        vertical-align: top;\n",
       "    }\n",
       "\n",
       "    .dataframe thead th {\n",
       "        text-align: right;\n",
       "    }\n",
       "</style>\n",
       "<table border=\"1\" class=\"dataframe\">\n",
       "  <thead>\n",
       "    <tr style=\"text-align: right;\">\n",
       "      <th></th>\n",
       "      <th>id</th>\n",
       "      <th>artist_pop</th>\n",
       "      <th>artist_name</th>\n",
       "      <th>artist_uri</th>\n",
       "      <th>track_name</th>\n",
       "      <th>album_uri</th>\n",
       "      <th>album_name</th>\n",
       "      <th>image_uri</th>\n",
       "      <th>track_pop</th>\n",
       "      <th>genres</th>\n",
       "    </tr>\n",
       "  </thead>\n",
       "  <tbody>\n",
       "    <tr>\n",
       "      <th>0</th>\n",
       "      <td>1G20khK4puqSUcMUhQ3m9U</td>\n",
       "      <td>75</td>\n",
       "      <td>Ludovico Einaudi</td>\n",
       "      <td>spotify:artist:2uFUBdaVGtyMqckSeCl0Qj</td>\n",
       "      <td>Le Onde</td>\n",
       "      <td>spotify:album:0jMze9qUrWL2ZCy3FQlYRi</td>\n",
       "      <td>Sleep: 111 Pieces Of Classical Music For Bedtime</td>\n",
       "      <td>https://i.scdn.co/image/ab67616d0000b2734b4e05...</td>\n",
       "      <td>0</td>\n",
       "      <td>compositional_ambient neo-classical</td>\n",
       "    </tr>\n",
       "    <tr>\n",
       "      <th>1</th>\n",
       "      <td>7wP9WrSAnNgJqS48KRPyWs</td>\n",
       "      <td>51</td>\n",
       "      <td>Dustin O'Halloran</td>\n",
       "      <td>spotify:artist:6UEYawMcp2M4JFoXVOtZEq</td>\n",
       "      <td>Departures n1</td>\n",
       "      <td>spotify:album:7eqmPHPSp9xMENCaHAmt7l</td>\n",
       "      <td>Like Crazy (Original Motion Picture Score)</td>\n",
       "      <td>https://i.scdn.co/image/ab67616d0000b273eea9df...</td>\n",
       "      <td>20</td>\n",
       "      <td>compositional_ambient</td>\n",
       "    </tr>\n",
       "    <tr>\n",
       "      <th>2</th>\n",
       "      <td>5NJiqDbIe4bb0BIkQzkJu3</td>\n",
       "      <td>58</td>\n",
       "      <td>Alexis Ffrench</td>\n",
       "      <td>spotify:artist:58R31AvN8JMHM7xkNpVLjX</td>\n",
       "      <td>Viva Vida Amor - Solo Piano Version</td>\n",
       "      <td>spotify:album:5EMB8WAOcT4BqrRZFsW0aO</td>\n",
       "      <td>Truth - The Solo Piano Collection</td>\n",
       "      <td>https://i.scdn.co/image/ab67616d0000b273905c5a...</td>\n",
       "      <td>26</td>\n",
       "      <td>neo-classical</td>\n",
       "    </tr>\n",
       "    <tr>\n",
       "      <th>3</th>\n",
       "      <td>4cmCWVR8RlLYyASMarxU0e</td>\n",
       "      <td>42</td>\n",
       "      <td>Karen Dalton</td>\n",
       "      <td>spotify:artist:5O5V29YvM6AzAQ0rNt59fy</td>\n",
       "      <td>Something on Your Mind</td>\n",
       "      <td>spotify:album:36WryGURqME9Y2URzzzmio</td>\n",
       "      <td>In My Own Time (50th Anniversary Edition)</td>\n",
       "      <td>https://i.scdn.co/image/ab67616d0000b273fc2f52...</td>\n",
       "      <td>52</td>\n",
       "      <td>ambient_folk drone_folk folk native_american_t...</td>\n",
       "    </tr>\n",
       "    <tr>\n",
       "      <th>4</th>\n",
       "      <td>5KwLjZ0oJ5kNl7jGtdiIOC</td>\n",
       "      <td>62</td>\n",
       "      <td>Jóhann Jóhannsson</td>\n",
       "      <td>spotify:artist:3IpQziA6YwD53PQ5xbwgLF</td>\n",
       "      <td>The Beast - From \"Sicario\"</td>\n",
       "      <td>spotify:album:04FRFSqcTfN9zfmFfzhbHn</td>\n",
       "      <td>Sicario (Original Motion Picture Soundtrack)</td>\n",
       "      <td>https://i.scdn.co/image/ab67616d0000b27397877b...</td>\n",
       "      <td>45</td>\n",
       "      <td>compositional_ambient experimental_classical i...</td>\n",
       "    </tr>\n",
       "    <tr>\n",
       "      <th>...</th>\n",
       "      <td>...</td>\n",
       "      <td>...</td>\n",
       "      <td>...</td>\n",
       "      <td>...</td>\n",
       "      <td>...</td>\n",
       "      <td>...</td>\n",
       "      <td>...</td>\n",
       "      <td>...</td>\n",
       "      <td>...</td>\n",
       "      <td>...</td>\n",
       "    </tr>\n",
       "    <tr>\n",
       "      <th>795</th>\n",
       "      <td>4QYGss1JbmGTxte5nA4JNX</td>\n",
       "      <td>75</td>\n",
       "      <td>Mrs. GREEN APPLE</td>\n",
       "      <td>spotify:artist:4QvgGvpgzgyUOo8Yp8LDm9</td>\n",
       "      <td>私</td>\n",
       "      <td>spotify:album:4seExhof6lZ2yg5dZfengb</td>\n",
       "      <td>TWELVE</td>\n",
       "      <td>https://i.scdn.co/image/ab67616d0000b273566489...</td>\n",
       "      <td>46</td>\n",
       "      <td>anime_rock j-pop j-rock</td>\n",
       "    </tr>\n",
       "    <tr>\n",
       "      <th>796</th>\n",
       "      <td>7pqcJ1n6HiGx7vOiDcb1Ml</td>\n",
       "      <td>46</td>\n",
       "      <td>Adrian Barba</td>\n",
       "      <td>spotify:artist:5KK1FO30lzYPqnPYyS9bu5</td>\n",
       "      <td>Sola Nunca Estarás</td>\n",
       "      <td>spotify:album:2b16yWqku8m9us1Y2zkEPI</td>\n",
       "      <td>Somos Una Sola Mente</td>\n",
       "      <td>https://i.scdn.co/image/ab67616d0000b273ce69fe...</td>\n",
       "      <td>32</td>\n",
       "      <td>anime_latino</td>\n",
       "    </tr>\n",
       "    <tr>\n",
       "      <th>797</th>\n",
       "      <td>0ijeNNh5BfPrZb2mPIUuR2</td>\n",
       "      <td>36</td>\n",
       "      <td>The Covers Duo</td>\n",
       "      <td>spotify:artist:0vlbXMsO1PRqmfJv5tAJ8G</td>\n",
       "      <td>Atraparlos Ya! (Pokemon)</td>\n",
       "      <td>spotify:album:2MWOz473PC86eJ4uasKHHK</td>\n",
       "      <td>Anime Openings 1</td>\n",
       "      <td>https://i.scdn.co/image/ab67616d0000b273fab27a...</td>\n",
       "      <td>35</td>\n",
       "      <td>anime_latino</td>\n",
       "    </tr>\n",
       "    <tr>\n",
       "      <th>798</th>\n",
       "      <td>2ccfTK4zy5LEZWsWmdPush</td>\n",
       "      <td>44</td>\n",
       "      <td>Doblecero</td>\n",
       "      <td>spotify:artist:6qqvdLm9ZVjxCgHxGcL5ZW</td>\n",
       "      <td>Rap de Buda</td>\n",
       "      <td>spotify:album:2b2J2SRfyGCgNsU2KEI8gB</td>\n",
       "      <td>Rap de Buda</td>\n",
       "      <td>https://i.scdn.co/image/ab67616d0000b2732af3f6...</td>\n",
       "      <td>33</td>\n",
       "      <td>latin_viral_rap rap_anime</td>\n",
       "    </tr>\n",
       "    <tr>\n",
       "      <th>799</th>\n",
       "      <td>6weLJLjwiXBRgMj4XtnSsf</td>\n",
       "      <td>46</td>\n",
       "      <td>Adrian Barba</td>\n",
       "      <td>spotify:artist:5KK1FO30lzYPqnPYyS9bu5</td>\n",
       "      <td>Quiero Gritar Te Amo (Version 2017 ) [From \"Sl...</td>\n",
       "      <td>spotify:album:51F8lxz140UHLvT1ohABfp</td>\n",
       "      <td>Ángeles Fuimos, Somos y Seremos</td>\n",
       "      <td>https://i.scdn.co/image/ab67616d0000b27308eaa6...</td>\n",
       "      <td>33</td>\n",
       "      <td>anime_latino</td>\n",
       "    </tr>\n",
       "  </tbody>\n",
       "</table>\n",
       "<p>800 rows × 10 columns</p>\n",
       "</div>"
      ],
      "text/plain": [
       "                         id  artist_pop        artist_name  \\\n",
       "0    1G20khK4puqSUcMUhQ3m9U          75   Ludovico Einaudi   \n",
       "1    7wP9WrSAnNgJqS48KRPyWs          51  Dustin O'Halloran   \n",
       "2    5NJiqDbIe4bb0BIkQzkJu3          58     Alexis Ffrench   \n",
       "3    4cmCWVR8RlLYyASMarxU0e          42       Karen Dalton   \n",
       "4    5KwLjZ0oJ5kNl7jGtdiIOC          62  Jóhann Jóhannsson   \n",
       "..                      ...         ...                ...   \n",
       "795  4QYGss1JbmGTxte5nA4JNX          75   Mrs. GREEN APPLE   \n",
       "796  7pqcJ1n6HiGx7vOiDcb1Ml          46       Adrian Barba   \n",
       "797  0ijeNNh5BfPrZb2mPIUuR2          36     The Covers Duo   \n",
       "798  2ccfTK4zy5LEZWsWmdPush          44          Doblecero   \n",
       "799  6weLJLjwiXBRgMj4XtnSsf          46       Adrian Barba   \n",
       "\n",
       "                                artist_uri  \\\n",
       "0    spotify:artist:2uFUBdaVGtyMqckSeCl0Qj   \n",
       "1    spotify:artist:6UEYawMcp2M4JFoXVOtZEq   \n",
       "2    spotify:artist:58R31AvN8JMHM7xkNpVLjX   \n",
       "3    spotify:artist:5O5V29YvM6AzAQ0rNt59fy   \n",
       "4    spotify:artist:3IpQziA6YwD53PQ5xbwgLF   \n",
       "..                                     ...   \n",
       "795  spotify:artist:4QvgGvpgzgyUOo8Yp8LDm9   \n",
       "796  spotify:artist:5KK1FO30lzYPqnPYyS9bu5   \n",
       "797  spotify:artist:0vlbXMsO1PRqmfJv5tAJ8G   \n",
       "798  spotify:artist:6qqvdLm9ZVjxCgHxGcL5ZW   \n",
       "799  spotify:artist:5KK1FO30lzYPqnPYyS9bu5   \n",
       "\n",
       "                                            track_name  \\\n",
       "0                                              Le Onde   \n",
       "1                                        Departures n1   \n",
       "2                  Viva Vida Amor - Solo Piano Version   \n",
       "3                               Something on Your Mind   \n",
       "4                           The Beast - From \"Sicario\"   \n",
       "..                                                 ...   \n",
       "795                                                  私   \n",
       "796                                 Sola Nunca Estarás   \n",
       "797                           Atraparlos Ya! (Pokemon)   \n",
       "798                                        Rap de Buda   \n",
       "799  Quiero Gritar Te Amo (Version 2017 ) [From \"Sl...   \n",
       "\n",
       "                                album_uri  \\\n",
       "0    spotify:album:0jMze9qUrWL2ZCy3FQlYRi   \n",
       "1    spotify:album:7eqmPHPSp9xMENCaHAmt7l   \n",
       "2    spotify:album:5EMB8WAOcT4BqrRZFsW0aO   \n",
       "3    spotify:album:36WryGURqME9Y2URzzzmio   \n",
       "4    spotify:album:04FRFSqcTfN9zfmFfzhbHn   \n",
       "..                                    ...   \n",
       "795  spotify:album:4seExhof6lZ2yg5dZfengb   \n",
       "796  spotify:album:2b16yWqku8m9us1Y2zkEPI   \n",
       "797  spotify:album:2MWOz473PC86eJ4uasKHHK   \n",
       "798  spotify:album:2b2J2SRfyGCgNsU2KEI8gB   \n",
       "799  spotify:album:51F8lxz140UHLvT1ohABfp   \n",
       "\n",
       "                                           album_name  \\\n",
       "0    Sleep: 111 Pieces Of Classical Music For Bedtime   \n",
       "1          Like Crazy (Original Motion Picture Score)   \n",
       "2                   Truth - The Solo Piano Collection   \n",
       "3           In My Own Time (50th Anniversary Edition)   \n",
       "4        Sicario (Original Motion Picture Soundtrack)   \n",
       "..                                                ...   \n",
       "795                                            TWELVE   \n",
       "796                              Somos Una Sola Mente   \n",
       "797                                  Anime Openings 1   \n",
       "798                                       Rap de Buda   \n",
       "799                   Ángeles Fuimos, Somos y Seremos   \n",
       "\n",
       "                                             image_uri  track_pop  \\\n",
       "0    https://i.scdn.co/image/ab67616d0000b2734b4e05...          0   \n",
       "1    https://i.scdn.co/image/ab67616d0000b273eea9df...         20   \n",
       "2    https://i.scdn.co/image/ab67616d0000b273905c5a...         26   \n",
       "3    https://i.scdn.co/image/ab67616d0000b273fc2f52...         52   \n",
       "4    https://i.scdn.co/image/ab67616d0000b27397877b...         45   \n",
       "..                                                 ...        ...   \n",
       "795  https://i.scdn.co/image/ab67616d0000b273566489...         46   \n",
       "796  https://i.scdn.co/image/ab67616d0000b273ce69fe...         32   \n",
       "797  https://i.scdn.co/image/ab67616d0000b273fab27a...         35   \n",
       "798  https://i.scdn.co/image/ab67616d0000b2732af3f6...         33   \n",
       "799  https://i.scdn.co/image/ab67616d0000b27308eaa6...         33   \n",
       "\n",
       "                                                genres  \n",
       "0                  compositional_ambient neo-classical  \n",
       "1                                compositional_ambient  \n",
       "2                                        neo-classical  \n",
       "3    ambient_folk drone_folk folk native_american_t...  \n",
       "4    compositional_ambient experimental_classical i...  \n",
       "..                                                 ...  \n",
       "795                            anime_rock j-pop j-rock  \n",
       "796                                       anime_latino  \n",
       "797                                       anime_latino  \n",
       "798                          latin_viral_rap rap_anime  \n",
       "799                                       anime_latino  \n",
       "\n",
       "[800 rows x 10 columns]"
      ]
     },
     "execution_count": 7,
     "metadata": {},
     "output_type": "execute_result"
    }
   ],
   "source": [
    "#Preview the DataFrame\n",
    "featureDF = pd.DataFrame(featureLIST)\n",
    "featureDF"
   ]
  },
  {
   "cell_type": "markdown",
   "metadata": {},
   "source": [
    "## Finalising and Export\n",
    "\n",
    "We finally merge the feature DataFrame with the original dataset, as this also contains useful information in the artist name and track name. This is then exported, as our processed data."
   ]
  },
  {
   "cell_type": "code",
   "execution_count": 8,
   "metadata": {},
   "outputs": [],
   "source": [
    "new_df = pd.merge(testDF,featureDF, left_on = \"track_id\", right_on= \"id\")"
   ]
  },
  {
   "cell_type": "markdown",
   "metadata": {},
   "source": [
    "Write to processed_data.csv for the 1st time:"
   ]
  },
  {
   "cell_type": "code",
   "execution_count": null,
   "metadata": {},
   "outputs": [],
   "source": [
    "new_df.to_csv('../data/processed_data.csv')"
   ]
  },
  {
   "cell_type": "markdown",
   "metadata": {},
   "source": [
    "Write to processed_date.csv for next times:"
   ]
  },
  {
   "cell_type": "code",
   "execution_count": 9,
   "metadata": {},
   "outputs": [],
   "source": [
    "new_df.index = pd.Index(range(5965, 5965 + len(new_df)))"
   ]
  },
  {
   "cell_type": "code",
   "execution_count": 10,
   "metadata": {},
   "outputs": [],
   "source": [
    "new_df.to_csv('../data/processed_data.csv', mode='a', header=False, index=True)"
   ]
  }
 ],
 "metadata": {
  "kernelspec": {
   "display_name": "Python 3",
   "language": "python",
   "name": "python3"
  },
  "language_info": {
   "codemirror_mode": {
    "name": "ipython",
    "version": 3
   },
   "file_extension": ".py",
   "mimetype": "text/x-python",
   "name": "python",
   "nbconvert_exporter": "python",
   "pygments_lexer": "ipython3",
   "version": "3.11.6"
  }
 },
 "nbformat": 4,
 "nbformat_minor": 4
}
